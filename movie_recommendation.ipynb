{
  "nbformat": 4,
  "nbformat_minor": 0,
  "metadata": {
    "colab": {
      "name": "movie recommendation",
      "provenance": [],
      "collapsed_sections": []
    },
    "kernelspec": {
      "name": "python3",
      "display_name": "Python 3"
    }
  },
  "cells": [
    {
      "cell_type": "code",
      "metadata": {
        "colab": {
          "base_uri": "https://localhost:8080/"
        },
        "id": "F9yKB7a6_DTr",
        "outputId": "c44f429c-79b2-4f73-9ac1-8488b5290ffe"
      },
      "source": [
        "!pip install lightfm\r\n",
        "!pip install numpy\r\n",
        "!pip install scipy"
      ],
      "execution_count": 1,
      "outputs": [
        {
          "output_type": "stream",
          "text": [
            "Collecting lightfm\n",
            "\u001b[?25l  Downloading https://files.pythonhosted.org/packages/5e/fe/8864d723daa8e5afc74080ce510c30f7ad52facf6a157d4b42dec83dfab4/lightfm-1.16.tar.gz (310kB)\n",
            "\r\u001b[K     |█                               | 10kB 13.7MB/s eta 0:00:01\r\u001b[K     |██▏                             | 20kB 19.1MB/s eta 0:00:01\r\u001b[K     |███▏                            | 30kB 17.0MB/s eta 0:00:01\r\u001b[K     |████▎                           | 40kB 13.3MB/s eta 0:00:01\r\u001b[K     |█████▎                          | 51kB 10.3MB/s eta 0:00:01\r\u001b[K     |██████▍                         | 61kB 8.4MB/s eta 0:00:01\r\u001b[K     |███████▍                        | 71kB 9.2MB/s eta 0:00:01\r\u001b[K     |████████▌                       | 81kB 10.0MB/s eta 0:00:01\r\u001b[K     |█████████▌                      | 92kB 9.9MB/s eta 0:00:01\r\u001b[K     |██████████▋                     | 102kB 9.4MB/s eta 0:00:01\r\u001b[K     |███████████▋                    | 112kB 9.4MB/s eta 0:00:01\r\u001b[K     |████████████▊                   | 122kB 9.4MB/s eta 0:00:01\r\u001b[K     |█████████████▊                  | 133kB 9.4MB/s eta 0:00:01\r\u001b[K     |██████████████▉                 | 143kB 9.4MB/s eta 0:00:01\r\u001b[K     |███████████████▉                | 153kB 9.4MB/s eta 0:00:01\r\u001b[K     |█████████████████               | 163kB 9.4MB/s eta 0:00:01\r\u001b[K     |██████████████████              | 174kB 9.4MB/s eta 0:00:01\r\u001b[K     |███████████████████             | 184kB 9.4MB/s eta 0:00:01\r\u001b[K     |████████████████████            | 194kB 9.4MB/s eta 0:00:01\r\u001b[K     |█████████████████████▏          | 204kB 9.4MB/s eta 0:00:01\r\u001b[K     |██████████████████████▏         | 215kB 9.4MB/s eta 0:00:01\r\u001b[K     |███████████████████████▎        | 225kB 9.4MB/s eta 0:00:01\r\u001b[K     |████████████████████████▎       | 235kB 9.4MB/s eta 0:00:01\r\u001b[K     |█████████████████████████▍      | 245kB 9.4MB/s eta 0:00:01\r\u001b[K     |██████████████████████████▍     | 256kB 9.4MB/s eta 0:00:01\r\u001b[K     |███████████████████████████▌    | 266kB 9.4MB/s eta 0:00:01\r\u001b[K     |████████████████████████████▌   | 276kB 9.4MB/s eta 0:00:01\r\u001b[K     |█████████████████████████████▋  | 286kB 9.4MB/s eta 0:00:01\r\u001b[K     |██████████████████████████████▋ | 296kB 9.4MB/s eta 0:00:01\r\u001b[K     |███████████████████████████████▊| 307kB 9.4MB/s eta 0:00:01\r\u001b[K     |████████████████████████████████| 317kB 9.4MB/s \n",
            "\u001b[?25hRequirement already satisfied: numpy in /usr/local/lib/python3.7/dist-packages (from lightfm) (1.19.5)\n",
            "Requirement already satisfied: scipy>=0.17.0 in /usr/local/lib/python3.7/dist-packages (from lightfm) (1.4.1)\n",
            "Requirement already satisfied: requests in /usr/local/lib/python3.7/dist-packages (from lightfm) (2.23.0)\n",
            "Requirement already satisfied: scikit-learn in /usr/local/lib/python3.7/dist-packages (from lightfm) (0.22.2.post1)\n",
            "Requirement already satisfied: idna<3,>=2.5 in /usr/local/lib/python3.7/dist-packages (from requests->lightfm) (2.10)\n",
            "Requirement already satisfied: certifi>=2017.4.17 in /usr/local/lib/python3.7/dist-packages (from requests->lightfm) (2020.12.5)\n",
            "Requirement already satisfied: urllib3!=1.25.0,!=1.25.1,<1.26,>=1.21.1 in /usr/local/lib/python3.7/dist-packages (from requests->lightfm) (1.24.3)\n",
            "Requirement already satisfied: chardet<4,>=3.0.2 in /usr/local/lib/python3.7/dist-packages (from requests->lightfm) (3.0.4)\n",
            "Requirement already satisfied: joblib>=0.11 in /usr/local/lib/python3.7/dist-packages (from scikit-learn->lightfm) (1.0.1)\n",
            "Building wheels for collected packages: lightfm\n",
            "  Building wheel for lightfm (setup.py) ... \u001b[?25l\u001b[?25hdone\n",
            "  Created wheel for lightfm: filename=lightfm-1.16-cp37-cp37m-linux_x86_64.whl size=705339 sha256=e3e1a1e52d6af7c33b8702efaa855446bbe8d1a4e39b8304f46e8ca4b56172c9\n",
            "  Stored in directory: /root/.cache/pip/wheels/c6/64/d4/673c7277f71ac4c5ad4835b94708c01b653ef2d3aa78ef20aa\n",
            "Successfully built lightfm\n",
            "Installing collected packages: lightfm\n",
            "Successfully installed lightfm-1.16\n",
            "Requirement already satisfied: numpy in /usr/local/lib/python3.7/dist-packages (1.19.5)\n",
            "Requirement already satisfied: scipy in /usr/local/lib/python3.7/dist-packages (1.4.1)\n",
            "Requirement already satisfied: numpy>=1.13.3 in /usr/local/lib/python3.7/dist-packages (from scipy) (1.19.5)\n"
          ],
          "name": "stdout"
        }
      ]
    },
    {
      "cell_type": "code",
      "metadata": {
        "id": "6n8QSU0U_Y14"
      },
      "source": [
        "import numpy as np\r\n",
        "from lightfm.datasets import fetch_movielens\r\n",
        "from lightfm import LightFM"
      ],
      "execution_count": 2,
      "outputs": []
    },
    {
      "cell_type": "code",
      "metadata": {
        "id": "YbbOyzQI_kvI"
      },
      "source": [
        "data = fetch_movielens(min_rating = 4.0)"
      ],
      "execution_count": 3,
      "outputs": []
    },
    {
      "cell_type": "code",
      "metadata": {
        "colab": {
          "base_uri": "https://localhost:8080/"
        },
        "id": "yayWBw1S_nIU",
        "outputId": "f8dc2c8c-079c-415f-c99b-3d1d1cd16a48"
      },
      "source": [
        "print(repr(data['train']))\r\n",
        "print(repr(data['test']))"
      ],
      "execution_count": 5,
      "outputs": [
        {
          "output_type": "stream",
          "text": [
            "<943x1682 sparse matrix of type '<class 'numpy.int32'>'\n",
            "\twith 49906 stored elements in COOrdinate format>\n",
            "<943x1682 sparse matrix of type '<class 'numpy.int32'>'\n",
            "\twith 5469 stored elements in COOrdinate format>\n"
          ],
          "name": "stdout"
        }
      ]
    },
    {
      "cell_type": "code",
      "metadata": {
        "id": "9M7fjjbW_p7z"
      },
      "source": [
        "model = LightFM(loss = 'warp')"
      ],
      "execution_count": 6,
      "outputs": []
    },
    {
      "cell_type": "code",
      "metadata": {
        "colab": {
          "base_uri": "https://localhost:8080/"
        },
        "id": "4jReKOiP_3Fg",
        "outputId": "b8f7b725-3a08-4355-cc89-5f826ea9541f"
      },
      "source": [
        "model.fit(data['train'], epochs=30, num_threads=2)"
      ],
      "execution_count": 7,
      "outputs": [
        {
          "output_type": "execute_result",
          "data": {
            "text/plain": [
              "<lightfm.lightfm.LightFM at 0x7f2e1d3a59d0>"
            ]
          },
          "metadata": {
            "tags": []
          },
          "execution_count": 7
        }
      ]
    },
    {
      "cell_type": "code",
      "metadata": {
        "id": "19KgaVPk_-Px"
      },
      "source": [
        "def sample_recommendation(model, data, user_ids):\r\n",
        "  n_users, n_items = data['train'].shape\r\n",
        "  for user_id in user_ids:\r\n",
        "    known_positives = data['item_labels'][data['train'].tocsr()[user_id].indices]\r\n",
        "    scores = model.predict(user_id, np.arange(n_items))\r\n",
        "    top_items = data['item_labels'][np.argsort(-scores)]\r\n",
        "    print(\"User %s\" % user_id)\r\n",
        "    print(\" Known positives:\")\r\n",
        "    for x in known_positives[:3]:\r\n",
        "      print(\" %s\" % x)\r\n",
        "      print(\" Recommended:\")\r\n",
        "    for x in top_items[:3]:\r\n",
        "      print(\" %s\" % x)"
      ],
      "execution_count": 12,
      "outputs": []
    },
    {
      "cell_type": "code",
      "metadata": {
        "colab": {
          "base_uri": "https://localhost:8080/"
        },
        "id": "eEazbQZrAe9C",
        "outputId": "a2dbe85b-041a-4ec5-fba6-4fe7aa0f776a"
      },
      "source": [
        "sample_recommendation(model, data, [3, 25, 451])"
      ],
      "execution_count": 13,
      "outputs": [
        {
          "output_type": "stream",
          "text": [
            "User 3\n",
            " Known positives:\n",
            " Seven (Se7en) (1995)\n",
            " Recommended:\n",
            " Contact (1997)\n",
            " Recommended:\n",
            " Starship Troopers (1997)\n",
            " Recommended:\n",
            " Air Force One (1997)\n",
            " Titanic (1997)\n",
            " Contact (1997)\n",
            "User 25\n",
            " Known positives:\n",
            " Dead Man Walking (1995)\n",
            " Recommended:\n",
            " Star Wars (1977)\n",
            " Recommended:\n",
            " Fargo (1996)\n",
            " Recommended:\n",
            " English Patient, The (1996)\n",
            " Contact (1997)\n",
            " Fargo (1996)\n",
            "User 451\n",
            " Known positives:\n",
            " Twelve Monkeys (1995)\n",
            " Recommended:\n",
            " Babe (1995)\n",
            " Recommended:\n",
            " Mr. Holland's Opus (1995)\n",
            " Recommended:\n",
            " Raiders of the Lost Ark (1981)\n",
            " Casablanca (1942)\n",
            " One Flew Over the Cuckoo's Nest (1975)\n"
          ],
          "name": "stdout"
        }
      ]
    },
    {
      "cell_type": "code",
      "metadata": {
        "id": "teyvCPO5HHw9"
      },
      "source": [
        ""
      ],
      "execution_count": null,
      "outputs": []
    }
  ]
}